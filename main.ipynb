{
 "cells": [
  {
   "cell_type": "code",
   "execution_count": null,
   "id": "10bb2819",
   "metadata": {},
   "outputs": [],
   "source": [
    "# Physics Engine version 1.1\n",
    "import math\n",
    "import numpy as np\n",
    "from matplotlib import pyplot as plt\n",
    "import matplotlib.patches as patches"
   ]
  },
  {
   "cell_type": "code",
   "execution_count": null,
   "id": "06e40f17",
   "metadata": {},
   "outputs": [],
   "source": [
    "g = 9.8"
   ]
  },
  {
   "cell_type": "code",
   "execution_count": null,
   "id": "823e09c5",
   "metadata": {},
   "outputs": [],
   "source": [
    "bullet_max_velocity = 1800\n",
    "bullet_min_velocity = 330"
   ]
  },
  {
   "cell_type": "code",
   "execution_count": null,
   "id": "86f5a2f0",
   "metadata": {},
   "outputs": [],
   "source": [
    "bullet_angle = 30"
   ]
  },
  {
   "cell_type": "code",
   "execution_count": null,
   "id": "dbda5fe8",
   "metadata": {},
   "outputs": [],
   "source": [
    "bullet_fly_time = 0"
   ]
  },
  {
   "cell_type": "code",
   "execution_count": null,
   "id": "a294d167",
   "metadata": {},
   "outputs": [],
   "source": [
    "bullet_fly_distance = 0\n",
    "target_distance = 20000 + (200 * np.random.randint(-10, 10))"
   ]
  },
  {
   "cell_type": "code",
   "execution_count": null,
   "id": "36164b6d",
   "metadata": {},
   "outputs": [],
   "source": [
    "target_size = 1000 + (100 * np.random.randint(-2, 2))"
   ]
  },
  {
   "cell_type": "code",
   "execution_count": null,
   "id": "f1b56a34",
   "metadata": {},
   "outputs": [],
   "source": [
    "firing_point_ground_clearance = 21"
   ]
  },
  {
   "cell_type": "code",
   "execution_count": null,
   "id": "b6087e74",
   "metadata": {},
   "outputs": [],
   "source": [
    "shot_attempts = 0"
   ]
  },
  {
   "cell_type": "code",
   "execution_count": null,
   "id": "d23ecfc4",
   "metadata": {},
   "outputs": [],
   "source": [
    "hit_target = False"
   ]
  },
  {
   "cell_type": "code",
   "execution_count": null,
   "id": "0329e0b8",
   "metadata": {},
   "outputs": [],
   "source": [
    "print(\"Welcome to the Physics Engine version 1.1\")"
   ]
  },
  {
   "cell_type": "code",
   "execution_count": null,
   "id": "058f8a61",
   "metadata": {},
   "outputs": [],
   "source": [
    "while not hit_target:\n",
    "    bullet_velocity = (bullet_max_velocity + bullet_min_velocity) / 2\n",
    "    if target_distance <= bullet_fly_distance <= target_distance + target_size:\n",
    "        hit_target = True\n",
    "        print(\"Target hit!\")\n",
    "        print(\"Number of shots fired: \", shot_attempts)\n",
    "        print(\"Bullet velocity: \", bullet_velocity)\n",
    "        print(\"Bullet angle: \", bullet_angle)\n",
    "        print(\"Bullet fly time: \", bullet_fly_time)\n",
    "        print(\"Bullet fly distance: \", bullet_fly_distance)\n",
    "        print(\"Target distance: \", target_distance)\n",
    "        print(\"Target size: \", target_size)\n",
    "        print(\"Firing point ground clearance: \", firing_point_ground_clearance)\n",
    "        break\n",
    "    else:\n",
    "        bullet_x_axis_velocity = round((math.cos(math.radians(bullet_angle))) * bullet_velocity)\n",
    "        bullet_y_axis_velocity = round((math.sin(math.radians(bullet_angle))) * bullet_velocity)\n",
    "\n",
    "        bullet_fly_time = round(((bullet_y_axis_velocity / 9.8) * 2) + 0.07)\n",
    "\n",
    "        bullet_fly_distance = round(bullet_x_axis_velocity * bullet_fly_time)\n",
    "\n",
    "        if target_distance >= bullet_fly_distance:\n",
    "            print(\"The bullet fell in front of the target.\")\n",
    "            bullet_min_velocity = bullet_velocity\n",
    "        elif bullet_fly_distance >= target_distance + target_size:\n",
    "            print(\"The bullet hit behind the target.\")\n",
    "            bullet_max_velocity = bullet_velocity\n",
    "\n",
    "        shot_attempts += 1"
   ]
  },
  {
   "cell_type": "code",
   "execution_count": null,
   "id": "167a94b9",
   "metadata": {},
   "outputs": [],
   "source": [
    "fig, ax = plt.subplots()\n",
    "square = patches.Rectangle((target_distance, 0), target_size, 200, edgecolor='red', facecolor='red')\n",
    "ax.add_patch(square)"
   ]
  },
  {
   "cell_type": "code",
   "execution_count": null,
   "id": "62c83dc7",
   "metadata": {},
   "outputs": [],
   "source": [
    "t = np.linspace(0, bullet_fly_time, num=500)"
   ]
  },
  {
   "cell_type": "code",
   "execution_count": null,
   "id": "214c5465",
   "metadata": {},
   "outputs": [],
   "source": [
    "bullet_velocity = (bullet_max_velocity + bullet_min_velocity) / 2\n",
    "x = bullet_velocity * t * np.cos(np.radians(bullet_angle))\n",
    "y = bullet_velocity * t * np.sin(np.radians(bullet_angle)) - 0.5 * g * t ** 2 + firing_point_ground_clearance"
   ]
  },
  {
   "cell_type": "code",
   "execution_count": null,
   "id": "374a423b",
   "metadata": {},
   "outputs": [],
   "source": [
    "plt.plot(x, y, label='Bullet trajectory')\n",
    "plt.legend()"
   ]
  },
  {
   "cell_type": "code",
   "execution_count": null,
   "id": "39d86841",
   "metadata": {},
   "outputs": [],
   "source": [
    "plt.gca().set_aspect('equal', adjustable='box')  # Ensures equal aspect ratio\n",
    "plt.xticks(range(0, int(target_distance + target_size + 5000) + 1, 2500))\n",
    "plt.yticks(range(0, int(5000) + 1, 500))"
   ]
  },
  {
   "cell_type": "code",
   "execution_count": null,
   "id": "282ed8d7",
   "metadata": {},
   "outputs": [],
   "source": [
    "plt.title('Oblique Projectile Motion Graph')\n",
    "plt.show()"
   ]
  }
 ],
 "metadata": {
  "jupytext": {
   "cell_metadata_filter": "-all",
   "main_language": "python",
   "notebook_metadata_filter": "-all"
  }
 },
 "nbformat": 4,
 "nbformat_minor": 5
}
